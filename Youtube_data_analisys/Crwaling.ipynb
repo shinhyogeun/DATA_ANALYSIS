{
 "cells": [
  {
   "cell_type": "code",
   "execution_count": null,
   "metadata": {},
   "outputs": [],
   "source": [
    "from selenium import webdriver\n",
    "#from bs4 import BeautifulSoup\n",
    "import time\n",
    "import re\n",
    "from selenium.webdriver.common.keys import Keys\n",
    "import pyautogui\n",
    "from selenium.webdriver.chrome.options import Options"
   ]
  },
  {
   "cell_type": "code",
   "execution_count": null,
   "metadata": {},
   "outputs": [],
   "source": [
    "## 바로 전체화면으로 교체\n",
    "\n",
    "\n",
    "driver = webdriver.Chrome('C:\\chrome\\chromedriver.exe')\n",
    "driver.get('https://chrome.google.com/webstore/detail/adblock-%E2%80%94-best-ad-blocker/gighmmpiobklfepjocnamgkkbiglidom')\n",
    "time.sleep(3)\n",
    "driver.find_element_by_xpath('/html/body/div[5]/div[2]/div/div/div[2]/div[2]/div').click()\n",
    "time.sleep(1)\n",
    "pyautogui.press('left')\n",
    "pyautogui.press('enter')"
   ]
  },
  {
   "cell_type": "code",
   "execution_count": null,
   "metadata": {},
   "outputs": [],
   "source": [
    "## 다깔리면 이제 아래 고고\n",
    "\n",
    "driver = webdriver.Chrome('C:\\chrome\\chromedriver.exe')\n",
    "driver.get('https://www.youtube.com/feed/trending')\n",
    "driver.implicitly_wait(1)"
   ]
  },
  {
   "cell_type": "code",
   "execution_count": null,
   "metadata": {},
   "outputs": [],
   "source": [
    "#video_length=[]\n",
    "view_count=[]\n",
    "date=[]\n",
    "like_count=[]\n",
    "dislike_count=[]\n",
    "subscriber_count=[]\n",
    "comment_count =[]\n",
    "title_name =[]"
   ]
  },
  {
   "cell_type": "code",
   "execution_count": null,
   "metadata": {},
   "outputs": [],
   "source": [
    "#유튭 영상 클릭\n",
    "for i in range(1,51):\n",
    "    driver.find_element_by_xpath('//*[@id=\"grid-container\"]/ytd-video-renderer['+str(i)+']').click()\n",
    "    time.sleep(2)\n",
    "    #영상길이\n",
    "    data1 = driver.find_element_by_xpath('//*[@id=\"movie_player\"]/div[26]/div[2]/div[1]/div[1]/span[3]').text\n",
    "    video_length.append(data1)\n",
    "\n",
    "    #조회수\n",
    "    data1 = driver.find_element_by_xpath('//*[@id=\"count\"]/yt-view-count-renderer/span[1]').text\n",
    "    data1 = data1[4:]\n",
    "    data1=data1[:-1]\n",
    "    data1 = re.sub(',', '', data1)\n",
    "    view_count.append(data1)\n",
    "    \n",
    "\n",
    "    #제목\n",
    "    data1 = driver.find_element_by_xpath('//*[@id=\"container\"]/h1/yt-formatted-string').text\n",
    "    title_name.append(data1)\n",
    "    \n",
    "    #날짜\n",
    "\n",
    "    data1 = driver.find_element_by_xpath('//*[@id=\"date\"]/yt-formatted-string').text\n",
    "    date.append(data1)\n",
    "\n",
    "    #좋아요수\n",
    "    data1 = driver.find_element_by_xpath('//*[@id=\"top-level-buttons\"]/ytd-toggle-button-renderer[1]').text\n",
    "    like_count.append(data1)\n",
    "\n",
    "    #싫어요수\n",
    "    data1 = driver.find_element_by_xpath('//*[@id=\"top-level-buttons\"]/ytd-toggle-button-renderer[2]').text\n",
    "    dislike_count.append(data1)\n",
    "\n",
    "    #구독자수\n",
    "    data1 = driver.find_element_by_xpath('//*[@id=\"owner-sub-count\"]').text\n",
    "    data1 = data1[4:]\n",
    "    data1 = data1[:-1]\n",
    "    if '만' in data1:\n",
    "        data1 = re.sub('만', '0000', data1)\n",
    "    elif '천' in data1:\n",
    "        data1 = re.sub('천','000',data1)\n",
    "    subscriber_count.append(data1)\n",
    "    \n",
    "    driver.execute_script(\"window.scrollTo(0, 360);\")\n",
    "    time.sleep(5)\n",
    "    #댓글수\n",
    "    data1 = driver.find_element_by_xpath('//*[@id=\"count\"]/yt-formatted-string').text\n",
    "    data1 = data1[3:]\n",
    "    data1 = data1[:-1]\n",
    "    data1 = re.sub(',', '', data1)\n",
    "    comment_count.append(data1)\n",
    "    \n",
    "    driver.back()\n",
    "    driver.implicitly_wait(1)\n",
    "\n",
    "\n",
    "print(view_count,\n",
    "date,\n",
    "like_count,\n",
    "dislike_count,\n",
    "subscriber_count,\n",
    "comment_count,\n",
    "title_name\n",
    ")\n",
    "\n",
    "print(title_name)"
   ]
  },
  {
   "cell_type": "code",
   "execution_count": null,
   "metadata": {},
   "outputs": [],
   "source": [
    "import csv \n",
    "  \n",
    "\n",
    "with open('Youtube1107.csv', 'w', encoding = 'utf-8-sig') as f: \n",
    "      \n",
    "    # using csv.writer method from CSV package \n",
    "    write = csv.writer(f) \n",
    "      \n",
    "    ##write.writerow(video_length)\n",
    "    write.writerow(view_count)\n",
    "    write.writerow(date)\n",
    "    write.writerow(like_count)\n",
    "    write.writerow(dislike_count)\n",
    "    write.writerow(subscriber_count)\n",
    "    write.writerow(comment_count)\n",
    "    write.writerow(title_name)\n",
    "\n",
    "\n",
    "print()"
   ]
  },
  {
   "cell_type": "code",
   "execution_count": null,
   "metadata": {},
   "outputs": [],
   "source": [
    "//*[@id=\"grid-container\"]/ytd-video-renderer[1]\n",
    "//*[@id=\"grid-container\"]/ytd-video-renderer[2]\n",
    "//*[@id=\"grid-container\"]/ytd-video-renderer[50]\n",
    "//*[@id=\"dismissable\"]/div\n",
    "//*[@id=\"grid-container\"]/ytd-video-renderer[2]"
   ]
  }
 ],
 "metadata": {
  "kernelspec": {
   "display_name": "Python 3",
   "language": "python",
   "name": "python3"
  },
  "language_info": {
   "codemirror_mode": {
    "name": "ipython",
    "version": 3
   },
   "file_extension": ".py",
   "mimetype": "text/x-python",
   "name": "python",
   "nbconvert_exporter": "python",
   "pygments_lexer": "ipython3",
   "version": "3.7.3"
  }
 },
 "nbformat": 4,
 "nbformat_minor": 4
}
