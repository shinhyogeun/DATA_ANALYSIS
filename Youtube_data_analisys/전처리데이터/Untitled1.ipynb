{
 "cells": [
  {
   "cell_type": "code",
   "execution_count": 2,
   "metadata": {},
   "outputs": [],
   "source": [
    "import pandas as pd"
   ]
  },
  {
   "cell_type": "code",
   "execution_count": 25,
   "metadata": {},
   "outputs": [],
   "source": [
    "# 1102, 1103, 1105 만 칼럼 7개\n",
    "df_1102=pd.read_csv(\"./pre_1102.csv\",index_col=0)\n",
    "df_1103=pd.read_csv(\"./pre_1103.csv\",index_col=0)\n",
    "\n",
    "df_1105=pd.read_csv(\"./pre_1105.csv\",index_col=0)\n",
    "\n",
    "df_1106=pd.read_csv(\"./pre_1106.csv\",index_col=0)\n",
    "\n",
    "df_1107=pd.read_csv(\"./pre_1107.csv\",index_col=0)\n",
    "\n",
    "df_1108=pd.read_csv(\"./pre_1108.csv\",index_col=0)\n",
    "\n",
    "df_1109=pd.read_csv(\"./pre_1109.csv\",index_col=0)\n",
    "\n",
    "df_1110=pd.read_csv(\"./pre_1110.csv\",index_col=0)\n",
    "\n",
    "df_1111=pd.read_csv(\"./pre_1111.csv\",index_col=0)\n",
    "\n",
    "df_1112=pd.read_csv(\"./pre_1112.csv\",index_col=0)\n",
    "\n",
    "df_1113=pd.read_csv(\"./pre_1113.csv\",index_col=0)\n",
    "\n",
    "df_1114=pd.read_csv(\"./pre_1114.csv\",index_col=0)\n",
    "\n",
    "\n",
    "\n",
    "\n",
    "\n"
   ]
  },
  {
   "cell_type": "code",
   "execution_count": 33,
   "metadata": {},
   "outputs": [],
   "source": [
    "df_1102[\"제목\"]=\"-\"\n",
    "df_1103[\"제목\"]=\"-\"\n",
    "df_1105[\"제목\"]=\"-\"\n",
    "\n",
    "\n"
   ]
  },
  {
   "cell_type": "code",
   "execution_count": 37,
   "metadata": {},
   "outputs": [],
   "source": [
    "df_1102=df_1102[[\"조회수\",\"날짜\",\"좋아요수\",\"싫어요수\",\"구독자수\",\"댓글\",\"제목\",\"영상길이\"]]\n",
    "df_1103=df_1103[[\"조회수\",\"날짜\",\"좋아요수\",\"싫어요수\",\"구독자수\",\"댓글\",\"제목\",\"영상길이\"]]\n",
    "df_1105=df_1105[[\"조회수\",\"날짜\",\"좋아요수\",\"싫어요수\",\"구독자수\",\"댓글\",\"제목\",\"영상길이\"]]\n",
    "\n",
    "\n"
   ]
  },
  {
   "cell_type": "code",
   "execution_count": 38,
   "metadata": {},
   "outputs": [],
   "source": [
    "df_all=pd.concat([df_1102,df_1103,df_1105,df_1106,df_1107,df_1108,df_1109,df_1110,df_1111,df_1112,df_1113,df_1114])\n"
   ]
  },
  {
   "cell_type": "code",
   "execution_count": 40,
   "metadata": {},
   "outputs": [],
   "source": [
    "df_all.to_csv(\"./total_data_until_1115.csv\",encoding=\"UTF8\")"
   ]
  }
 ],
 "metadata": {
  "kernelspec": {
   "display_name": "Python 3",
   "language": "python",
   "name": "python3"
  },
  "language_info": {
   "codemirror_mode": {
    "name": "ipython",
    "version": 3
   },
   "file_extension": ".py",
   "mimetype": "text/x-python",
   "name": "python",
   "nbconvert_exporter": "python",
   "pygments_lexer": "ipython3",
   "version": "3.7.3"
  }
 },
 "nbformat": 4,
 "nbformat_minor": 4
}
