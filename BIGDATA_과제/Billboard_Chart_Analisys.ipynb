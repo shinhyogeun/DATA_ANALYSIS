{
 "cells": [
  {
   "cell_type": "markdown",
   "metadata": {},
   "source": [
    "# 빌보드 차트(HOT100) 크롤링 과정"
   ]
  },
  {
   "cell_type": "code",
   "execution_count": 3,
   "metadata": {},
   "outputs": [],
   "source": [
    "\n",
    "# 데이터 크롤링 과제(12163252 신효근)\n",
    "# 빌보드 HOT100차트 크롤링 및 대략적 통계량 분석\n",
    "# 이후에 진행되는 코드는 20년 11월 16일의 HOT100 차트(11월 3째 주)를 바탕으로 합니다.\n",
    "\n",
    "\n",
    "import requests\n",
    "from bs4 import BeautifulSoup\n",
    "import pandas as pd\n",
    "import matplotlib.pylab as plt"
   ]
  },
  {
   "cell_type": "code",
   "execution_count": 4,
   "metadata": {},
   "outputs": [],
   "source": [
    "webpage = requests.get(\"https://www.billboard.com/charts/hot-100\")\n",
    "soup = BeautifulSoup(webpage.content, \"html.parser\")\n",
    "DATA = {}"
   ]
  },
  {
   "cell_type": "code",
   "execution_count": 5,
   "metadata": {},
   "outputs": [],
   "source": [
    "tag_class_dictionary = {\n",
    "                        \"순위\":\"RANK\",\n",
    "                        \"노래제목\":\".chart-element__information__song\",\n",
    "                        \"가수\":\".chart-element__information__artist\",\n",
    "                        \"지난주 순위\":\".text--last\",\n",
    "                        \"최고순위\":\".text--peak\",\n",
    "                        \"HOT100에 들었던 기간\":\".text--week\"\n",
    "                        }"
   ]
  },
  {
   "cell_type": "code",
   "execution_count": 6,
   "metadata": {},
   "outputs": [
    {
     "data": {
      "text/html": [
       "<div>\n",
       "<style scoped>\n",
       "    .dataframe tbody tr th:only-of-type {\n",
       "        vertical-align: middle;\n",
       "    }\n",
       "\n",
       "    .dataframe tbody tr th {\n",
       "        vertical-align: top;\n",
       "    }\n",
       "\n",
       "    .dataframe thead th {\n",
       "        text-align: right;\n",
       "    }\n",
       "</style>\n",
       "<table border=\"1\" class=\"dataframe\">\n",
       "  <thead>\n",
       "    <tr style=\"text-align: right;\">\n",
       "      <th></th>\n",
       "      <th>순위</th>\n",
       "      <th>노래제목</th>\n",
       "      <th>가수</th>\n",
       "      <th>지난주 순위</th>\n",
       "      <th>최고순위</th>\n",
       "      <th>HOT100에 들었던 기간</th>\n",
       "    </tr>\n",
       "  </thead>\n",
       "  <tbody>\n",
       "    <tr>\n",
       "      <th>0</th>\n",
       "      <td>1</td>\n",
       "      <td>Mood</td>\n",
       "      <td>24kGoldn Featuring iann dior</td>\n",
       "      <td>3</td>\n",
       "      <td>1</td>\n",
       "      <td>13</td>\n",
       "    </tr>\n",
       "    <tr>\n",
       "      <th>1</th>\n",
       "      <td>2</td>\n",
       "      <td>Positions</td>\n",
       "      <td>Ariana Grande</td>\n",
       "      <td>1</td>\n",
       "      <td>1</td>\n",
       "      <td>2</td>\n",
       "    </tr>\n",
       "    <tr>\n",
       "      <th>2</th>\n",
       "      <td>3</td>\n",
       "      <td>Laugh Now Cry Later</td>\n",
       "      <td>Drake Featuring Lil Durk</td>\n",
       "      <td>4</td>\n",
       "      <td>2</td>\n",
       "      <td>12</td>\n",
       "    </tr>\n",
       "    <tr>\n",
       "      <th>3</th>\n",
       "      <td>4</td>\n",
       "      <td>Blinding Lights</td>\n",
       "      <td>The Weeknd</td>\n",
       "      <td>5</td>\n",
       "      <td>1</td>\n",
       "      <td>49</td>\n",
       "    </tr>\n",
       "    <tr>\n",
       "      <th>4</th>\n",
       "      <td>5</td>\n",
       "      <td>I Hope</td>\n",
       "      <td>Gabby Barrett Featuring Charlie Puth</td>\n",
       "      <td>6</td>\n",
       "      <td>5</td>\n",
       "      <td>45</td>\n",
       "    </tr>\n",
       "    <tr>\n",
       "      <th>...</th>\n",
       "      <td>...</td>\n",
       "      <td>...</td>\n",
       "      <td>...</td>\n",
       "      <td>...</td>\n",
       "      <td>...</td>\n",
       "      <td>...</td>\n",
       "    </tr>\n",
       "    <tr>\n",
       "      <th>95</th>\n",
       "      <td>96</td>\n",
       "      <td>Happy Does</td>\n",
       "      <td>Kenny Chesney</td>\n",
       "      <td>92</td>\n",
       "      <td>85</td>\n",
       "      <td>3</td>\n",
       "    </tr>\n",
       "    <tr>\n",
       "      <th>96</th>\n",
       "      <td>97</td>\n",
       "      <td>So Done</td>\n",
       "      <td>The Kid LAROI</td>\n",
       "      <td>77</td>\n",
       "      <td>77</td>\n",
       "      <td>2</td>\n",
       "    </tr>\n",
       "    <tr>\n",
       "      <th>97</th>\n",
       "      <td>98</td>\n",
       "      <td>Thick</td>\n",
       "      <td>DJ Chose Featuring BeatKing</td>\n",
       "      <td>-</td>\n",
       "      <td>98</td>\n",
       "      <td>1</td>\n",
       "    </tr>\n",
       "    <tr>\n",
       "      <th>98</th>\n",
       "      <td>99</td>\n",
       "      <td>La Toxica</td>\n",
       "      <td>Farruko</td>\n",
       "      <td>98</td>\n",
       "      <td>98</td>\n",
       "      <td>2</td>\n",
       "    </tr>\n",
       "    <tr>\n",
       "      <th>99</th>\n",
       "      <td>100</td>\n",
       "      <td>Take You Dancing</td>\n",
       "      <td>Jason Derulo</td>\n",
       "      <td>-</td>\n",
       "      <td>100</td>\n",
       "      <td>1</td>\n",
       "    </tr>\n",
       "  </tbody>\n",
       "</table>\n",
       "<p>100 rows × 6 columns</p>\n",
       "</div>"
      ],
      "text/plain": [
       "     순위                 노래제목                                    가수 지난주 순위  \\\n",
       "0     1                 Mood          24kGoldn Featuring iann dior      3   \n",
       "1     2            Positions                         Ariana Grande      1   \n",
       "2     3  Laugh Now Cry Later              Drake Featuring Lil Durk      4   \n",
       "3     4      Blinding Lights                            The Weeknd      5   \n",
       "4     5               I Hope  Gabby Barrett Featuring Charlie Puth      6   \n",
       "..  ...                  ...                                   ...    ...   \n",
       "95   96           Happy Does                         Kenny Chesney     92   \n",
       "96   97              So Done                         The Kid LAROI     77   \n",
       "97   98                Thick           DJ Chose Featuring BeatKing      -   \n",
       "98   99            La Toxica                               Farruko     98   \n",
       "99  100     Take You Dancing                          Jason Derulo      -   \n",
       "\n",
       "   최고순위 HOT100에 들었던 기간  \n",
       "0     1             13  \n",
       "1     1              2  \n",
       "2     2             12  \n",
       "3     1             49  \n",
       "4     5             45  \n",
       "..  ...            ...  \n",
       "95   85              3  \n",
       "96   77              2  \n",
       "97   98              1  \n",
       "98   98              2  \n",
       "99  100              1  \n",
       "\n",
       "[100 rows x 6 columns]"
      ]
     },
     "execution_count": 6,
     "metadata": {},
     "output_type": "execute_result"
    }
   ],
   "source": [
    "for key in tag_class_dictionary.keys():\n",
    "    new = []\n",
    "    \n",
    "    if key in [\"지난주 순위\",\"최고순위\",\"HOT100에 들었던 기간\"]:\n",
    "        col = soup.select(tag_class_dictionary[key])\n",
    "        for i in col:\n",
    "            if col.index(i) % 2 != 0:\n",
    "                new.append(i.get_text())\n",
    "    elif key == \"순위\":\n",
    "        for i in range(100):\n",
    "            new.append(i+1)\n",
    "    else:\n",
    "        col = soup.select(tag_class_dictionary[key])\n",
    "        for i in col:\n",
    "            new.append(i.get_text())\n",
    "            \n",
    "    DATA[key] = new\n",
    "    \n",
    "df1 = pd.DataFrame(DATA)\n",
    "df1.to_csv('DATA.csv')\n",
    "df1"
   ]
  },
  {
   "cell_type": "markdown",
   "metadata": {},
   "source": [
    "# 빌보드 차트(HOT100) 크롤링 결과(df1)을 이용한 통계량 분석"
   ]
  },
  {
   "cell_type": "code",
   "execution_count": 7,
   "metadata": {},
   "outputs": [
    {
     "data": {
      "text/plain": [
       "11.86"
      ]
     },
     "execution_count": 7,
     "metadata": {},
     "output_type": "execute_result"
    }
   ],
   "source": [
    "# 1. HOT100에 오른 100개의 노래들의 평균 \"HOT100에 들었던 기간\"은 ?\n",
    "\n",
    "answer = sum(map(int,df1[\"HOT100에 들었던 기간\"]))/100\n",
    "\n",
    "answer"
   ]
  },
  {
   "cell_type": "code",
   "execution_count": 8,
   "metadata": {},
   "outputs": [
    {
     "data": {
      "text/plain": [
       "49.8686175887822"
      ]
     },
     "execution_count": 8,
     "metadata": {},
     "output_type": "execute_result"
    }
   ],
   "source": [
    "# 2. 이번주 순위와 지난주 순위의 차이의 평균(평균적으로 얼마간의 변동이 있었을까?)과 분산\n",
    "# 단! 이번주에 갑작스럽게 빌보드 차트에 진입한 노래들은 제외합니다.\n",
    "\n",
    "last_rank = df1[\"지난주 순위\"]\n",
    "rank = df1[\"순위\"]\n",
    "rank_minus_last_rank = []\n",
    "compare = []\n",
    "for i in range(100):\n",
    "    if last_rank[i] != \"-\":\n",
    "        rank_minus_last_rank.append(int(rank[i]) - int(last_rank[i]))\n",
    "        compare.append(i+1)\n",
    "\n",
    "answer_mean = sum(rank_minus_last_rank)/len(rank_minus_last_rank)\n",
    "answer_var = sum([(answer_mean-i)**2 for i in rank_minus_last_rank]) / len(rank_minus_last_rank)\n",
    "\n",
    "answer_mean\n",
    "answer_var\n",
    "\n",
    "#평균적으로 4.6등이 지난주에 비해 감소했다.(분산은 대략 49.87)"
   ]
  },
  {
   "cell_type": "code",
   "execution_count": 12,
   "metadata": {},
   "outputs": [
    {
     "data": {
      "image/png": "[encoded data removed]",
      "text/plain": [
       "<Figure size 432x288 with 1 Axes>"
      ]
     },
     "metadata": {
      "needs_background": "light"
     },
     "output_type": "display_data"
    }
   ],
   "source": [
    "# 3-1)이번주 순위와 \"이번주 순위-지난주 순위\"간의 산점도\n",
    "plt.scatter(rank_minus_last_rank, compare, label = \"data\")\n",
    "\n",
    "plt.legend(loc = \"best\")\n",
    "plt.xlabel('RANK - LASTWEEKRANK')\n",
    "plt.ylabel(\"RANK\")\n",
    "plt.show()\n"
   ]
  }
 ],
 "metadata": {
  "kernelspec": {
   "display_name": "Python 3",
   "language": "python",
   "name": "python3"
  },
  "language_info": {
   "codemirror_mode": {
    "name": "ipython",
    "version": 3
   },
   "file_extension": ".py",
   "mimetype": "text/x-python",
   "name": "python",
   "nbconvert_exporter": "python",
   "pygments_lexer": "ipython3",
   "version": "3.8.5"
  }
 },
 "nbformat": 4,
 "nbformat_minor": 4
}
